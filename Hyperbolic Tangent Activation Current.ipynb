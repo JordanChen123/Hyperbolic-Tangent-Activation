{
 "cells": [
  {
   "cell_type": "code",
   "execution_count": 83,
   "id": "84c7b1f4",
   "metadata": {},
   "outputs": [],
   "source": [
    "import numpy as np\n",
    "import matplotlib.pyplot as plt"
   ]
  },
  {
   "cell_type": "code",
   "execution_count": 84,
   "id": "9614e5e6",
   "metadata": {},
   "outputs": [],
   "source": [
    "#alpha scaling does not work. Basically works like a normal machine learning algorithm\n",
    "\"\"\"\n",
    "We want y as a function of x, i.e. f(x), but we found the relation\n",
    "y as a function of f(bar{x}) instead. \n",
    "\"\"\"\n",
    "advection = -10\n",
    "alpha = 1/advection\n",
    "\n",
    "xL = -100\n",
    "xR = 121\n",
    "yL = -35\n",
    "yR = 235\n",
    "\n",
    "scaling_alpha = 1/(xR-xL)\n",
    "scaling_beta = (-xL)/(xR-xL)"
   ]
  },
  {
   "cell_type": "code",
   "execution_count": 85,
   "id": "fd462491",
   "metadata": {},
   "outputs": [],
   "source": [
    "i = 49 # number of colocation points\n",
    "xi = np.linspace(xL, xR, i+2)\n",
    "#x = np.linspace(xL,xR,i)\n",
    "\n",
    "xi = xi[1:-1]\n",
    "\n",
    "xi = scaling_alpha*xi + scaling_beta\n",
    "\n"
   ]
  },
  {
   "cell_type": "code",
   "execution_count": 86,
   "id": "43bb1cec",
   "metadata": {
    "scrolled": false
   },
   "outputs": [
    {
     "name": "stdout",
     "output_type": "stream",
     "text": [
      "8.693674786817904e+18\n"
     ]
    }
   ],
   "source": [
    "\"\"\"\n",
    "Initialization of matrix components, \n",
    "we are solving something of the form \n",
    "Ax = b, where A is our coefficient matrix,\n",
    "x is the vector that we are solving for (the coefficients),\n",
    "and y is the output vector\n",
    "\"\"\"\n",
    "\n",
    "#Write Code for n number of tanh functions, as well as J colocation points\n",
    "\n",
    "n_tanh = 50\n",
    "#This is the number of tanh functions we want in our system, the total size of the matrix will be this plus 1\n",
    "\n",
    "A = np.zeros((i+2, n_tanh+1)) \n",
    "#The matrix A has i+2 rows for the 2 boundary values, and the i colocation points\n",
    "#The matrix A has n+1 columns to fit the required amount of hyperbolic tangent functions, as well as the bias for the two boundary values\n",
    "\n",
    "R_1_i = np.zeros(n_tanh)\n",
    "R_2_i = np.zeros(n_tanh)\n",
    "#These are matrices that store the random coefficients R_i that are put into the tanh function\n",
    "#They have the same size as n_tanh because the random variable set for each column is the same\n",
    "\n",
    "for j in range (n_tanh):\n",
    "    #initialize random variable values\n",
    "    R_1_i[j] = np.random.default_rng().uniform(-1,1)\n",
    "    R_2_i[j] = np.random.default_rng().uniform(-1,1)\n",
    "\n",
    "A[0, n_tanh] = 1\n",
    "A[1, n_tanh] = 1\n",
    "\n",
    "\n",
    "#Change the value for the boundary points to equal 1 because of the bias\n",
    "\n",
    "#creates the first two rows through iteration\n",
    "for j in range (i+2):\n",
    "    for k in range(n_tanh):\n",
    "        if(j == 0):\n",
    "            A[j][k] = np.tanh(R_1_i[k]*(xL*scaling_alpha + scaling_beta) + R_2_i[k])\n",
    "        elif(j == 1):\n",
    "            A[j][k] = np.tanh(R_1_i[k]*(xR*scaling_alpha + scaling_beta) + R_2_i[k])\n",
    "        else:\n",
    "            A[j][k] = (R_1_i[k] + alpha*(R_1_i[k]**2)*2*np.tanh(R_1_i[k]*xi[j-2] + R_2_i[k]))/((np.cosh(R_1_i[k]*xi[j-2] + R_2_i[k]))**2)\n",
    "print(np.linalg.cond(A))\n",
    "b_vector = np.zeros(i+2)\n",
    "b_vector[0] = yL\n",
    "b_vector[1] = yR\n",
    "\n",
    "#b_vector is our solution vector (i.e the y-values for the boundary values)"
   ]
  },
  {
   "cell_type": "code",
   "execution_count": 87,
   "id": "3358c308",
   "metadata": {},
   "outputs": [
    {
     "data": {
      "text/plain": [
       "[<matplotlib.lines.Line2D at 0x1cbeabbfa00>]"
      ]
     },
     "execution_count": 87,
     "metadata": {},
     "output_type": "execute_result"
    },
    {
     "data": {
      "image/png": "[encoded data removed]",
      "text/plain": [
       "<Figure size 640x480 with 1 Axes>"
      ]
     },
     "metadata": {},
     "output_type": "display_data"
    }
   ],
   "source": [
    "coeff = np.matmul(np.linalg.pinv(A), b_vector)\n",
    "\n",
    "N = 100 # No of predictions\n",
    "y_tanh = np.zeros(N)\n",
    "x = np.linspace(xL, xR, N)\n",
    "y_exact = yL + (yR-yL)*(np.exp((x-xL)/(alpha*(xR-xL))) - 1)/(np.exp(1/alpha) - 1 )\n",
    "x_scaled = scaling_alpha*x + scaling_beta\n",
    "\n",
    "for ith in range(N):\n",
    "#     y_tanh[ith] = 0\n",
    "    for j in range(n_tanh):\n",
    "        y_tanh[ith] = y_tanh[ith] + coeff[j] * np.tanh(R_1_i[j]*x_scaled[ith]+R_2_i[j])\n",
    "    y_tanh[ith] = y_tanh[ith] + coeff[n_tanh]\n",
    "\n",
    "plt.plot(x, y_tanh, 'r.')\n",
    "plt.plot(x, y_exact)\n",
    "\n",
    "#only works for fixed yL at 0, fixed xL at 0, fixed xR at 1. Works for yR only.  "
   ]
  },
  {
   "cell_type": "code",
   "execution_count": 82,
   "id": "eccd24fe",
   "metadata": {},
   "outputs": [
    {
     "name": "stdout",
     "output_type": "stream",
     "text": [
      "[-5.55111512e-17  1.01010101e-02  2.02020202e-02  3.03030303e-02\n",
      "  4.04040404e-02  5.05050505e-02  6.06060606e-02  7.07070707e-02\n",
      "  8.08080808e-02  9.09090909e-02  1.01010101e-01  1.11111111e-01\n",
      "  1.21212121e-01  1.31313131e-01  1.41414141e-01  1.51515152e-01\n",
      "  1.61616162e-01  1.71717172e-01  1.81818182e-01  1.91919192e-01\n",
      "  2.02020202e-01  2.12121212e-01  2.22222222e-01  2.32323232e-01\n",
      "  2.42424242e-01  2.52525253e-01  2.62626263e-01  2.72727273e-01\n",
      "  2.82828283e-01  2.92929293e-01  3.03030303e-01  3.13131313e-01\n",
      "  3.23232323e-01  3.33333333e-01  3.43434343e-01  3.53535354e-01\n",
      "  3.63636364e-01  3.73737374e-01  3.83838384e-01  3.93939394e-01\n",
      "  4.04040404e-01  4.14141414e-01  4.24242424e-01  4.34343434e-01\n",
      "  4.44444444e-01  4.54545455e-01  4.64646465e-01  4.74747475e-01\n",
      "  4.84848485e-01  4.94949495e-01  5.05050505e-01  5.15151515e-01\n",
      "  5.25252525e-01  5.35353535e-01  5.45454545e-01  5.55555556e-01\n",
      "  5.65656566e-01  5.75757576e-01  5.85858586e-01  5.95959596e-01\n",
      "  6.06060606e-01  6.16161616e-01  6.26262626e-01  6.36363636e-01\n",
      "  6.46464646e-01  6.56565657e-01  6.66666667e-01  6.76767677e-01\n",
      "  6.86868687e-01  6.96969697e-01  7.07070707e-01  7.17171717e-01\n",
      "  7.27272727e-01  7.37373737e-01  7.47474747e-01  7.57575758e-01\n",
      "  7.67676768e-01  7.77777778e-01  7.87878788e-01  7.97979798e-01\n",
      "  8.08080808e-01  8.18181818e-01  8.28282828e-01  8.38383838e-01\n",
      "  8.48484848e-01  8.58585859e-01  8.68686869e-01  8.78787879e-01\n",
      "  8.88888889e-01  8.98989899e-01  9.09090909e-01  9.19191919e-01\n",
      "  9.29292929e-01  9.39393939e-01  9.49494949e-01  9.59595960e-01\n",
      "  9.69696970e-01  9.79797980e-01  9.89898990e-01  1.00000000e+00]\n"
     ]
    }
   ],
   "source": [
    "print(x_scaled)"
   ]
  },
  {
   "cell_type": "code",
   "execution_count": 76,
   "id": "7348c9e2",
   "metadata": {},
   "outputs": [
    {
     "name": "stdout",
     "output_type": "stream",
     "text": [
      "0.2300691740199854\n"
     ]
    }
   ],
   "source": [
    "s = np.random.default_rng().uniform(-1,1)\n",
    "print(s)"
   ]
  },
  {
   "cell_type": "code",
   "execution_count": null,
   "id": "d4e44ed8",
   "metadata": {},
   "outputs": [],
   "source": []
  },
  {
   "cell_type": "code",
   "execution_count": null,
   "id": "c0ede140",
   "metadata": {},
   "outputs": [],
   "source": []
  },
  {
   "cell_type": "code",
   "execution_count": null,
   "id": "5d49d5e1",
   "metadata": {},
   "outputs": [],
   "source": []
  }
 ],
 "metadata": {
  "kernelspec": {
   "display_name": "Python 3 (ipykernel)",
   "language": "python",
   "name": "python3"
  },
  "language_info": {
   "codemirror_mode": {
    "name": "ipython",
    "version": 3
   },
   "file_extension": ".py",
   "mimetype": "text/x-python",
   "name": "python",
   "nbconvert_exporter": "python",
   "pygments_lexer": "ipython3",
   "version": "3.10.9"
  }
 },
 "nbformat": 4,
 "nbformat_minor": 5
}
